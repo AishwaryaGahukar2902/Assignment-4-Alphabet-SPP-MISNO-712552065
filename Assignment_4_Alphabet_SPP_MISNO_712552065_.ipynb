{
  "nbformat": 4,
  "nbformat_minor": 0,
  "metadata": {
    "colab": {
      "provenance": []
    },
    "kernelspec": {
      "name": "python3",
      "display_name": "Python 3"
    },
    "language_info": {
      "name": "python"
    }
  },
  "cells": [
    {
      "cell_type": "code",
      "source": [
        "n=5\n",
        "for i in range(1,n+1):\n",
        "  for j in range(1,n+1):\n",
        "    if(i==1 or j==1 or i==(n+1)//2 or j==n):\n",
        "      print(\"* \",end=\"\")\n",
        "    else:\n",
        "      print(\"  \",end=\"\")\n",
        "  print()"
      ],
      "metadata": {
        "colab": {
          "base_uri": "https://localhost:8080/"
        },
        "id": "wM7iimjdDkwA",
        "outputId": "759100cb-0708-48b1-e6e2-920c9737a80d"
      },
      "execution_count": null,
      "outputs": [
        {
          "output_type": "stream",
          "name": "stdout",
          "text": [
            "* * * * * \n",
            "*       * \n",
            "* * * * * \n",
            "*       * \n",
            "*       * \n"
          ]
        }
      ]
    },
    {
      "cell_type": "code",
      "source": [
        "n=5\n",
        "for i in range(1,n+1):\n",
        "  for j in range(1,n+1):\n",
        "    if(i==1 or i==n or i==(n+1)//2 or j==n or j==1):\n",
        "      print(\"* \",end=\"\")\n",
        "    else:\n",
        "      print(\"  \",end=\"\")\n",
        "  print()"
      ],
      "metadata": {
        "colab": {
          "base_uri": "https://localhost:8080/"
        },
        "id": "BTtq3B8gDnG3",
        "outputId": "f7d2acd6-a805-4741-a9b8-1c5acd72b17b"
      },
      "execution_count": null,
      "outputs": [
        {
          "output_type": "stream",
          "name": "stdout",
          "text": [
            "* * * * * \n",
            "*       * \n",
            "* * * * * \n",
            "*       * \n",
            "* * * * * \n"
          ]
        }
      ]
    },
    {
      "cell_type": "code",
      "source": [
        "n=5\n",
        "for i in range(1,n+1):\n",
        "  for j in range(1,n+1):\n",
        "    if(i==1 or i==n or j==1):\n",
        "      print(\"* \",end=\"\")\n",
        "    else:\n",
        "      print(\"  \",end=\"\")\n",
        "  print()"
      ],
      "metadata": {
        "colab": {
          "base_uri": "https://localhost:8080/"
        },
        "id": "xxre770ODqbN",
        "outputId": "b3df0b76-d798-48fe-d5d9-45a1ae1823df"
      },
      "execution_count": null,
      "outputs": [
        {
          "output_type": "stream",
          "name": "stdout",
          "text": [
            "* * * * * \n",
            "*         \n",
            "*         \n",
            "*         \n",
            "* * * * * \n"
          ]
        }
      ]
    },
    {
      "cell_type": "code",
      "source": [
        "n=6\n",
        "for i in range(1,n+1):\n",
        "  for j in range(1,n+1):\n",
        "    if(i==1 or i==n or j==(n+1)//2 or j==n):\n",
        "      print(\"* \",end=\"\")\n",
        "    else:\n",
        "      print(\"  \",end=\"\")\n",
        "  print()"
      ],
      "metadata": {
        "colab": {
          "base_uri": "https://localhost:8080/"
        },
        "id": "aEsQ8TB4D4IL",
        "outputId": "90ebb8c4-9ab8-4b7a-efc4-b072b0de706f"
      },
      "execution_count": null,
      "outputs": [
        {
          "output_type": "stream",
          "name": "stdout",
          "text": [
            "* * * * * * \n",
            "    *     * \n",
            "    *     * \n",
            "    *     * \n",
            "    *     * \n",
            "* * * * * * \n"
          ]
        }
      ]
    },
    {
      "cell_type": "code",
      "source": [
        "n=5\n",
        "for i in range(1,n+1):\n",
        "  for j in range(1,n+1):\n",
        "    if(i==1 or j==1 or i==(n+1)//2 or i==n):\n",
        "      print(\"* \",end=\"\")\n",
        "    else:\n",
        "      print(\"  \",end=\"\")\n",
        "  print()\n"
      ],
      "metadata": {
        "colab": {
          "base_uri": "https://localhost:8080/"
        },
        "id": "iaH7-VuaD7fa",
        "outputId": "9caa587f-ef04-483d-e456-6559e5d13d8e"
      },
      "execution_count": null,
      "outputs": [
        {
          "output_type": "stream",
          "name": "stdout",
          "text": [
            "* * * * * \n",
            "*         \n",
            "* * * * * \n",
            "*         \n",
            "* * * * * \n"
          ]
        }
      ]
    },
    {
      "cell_type": "code",
      "source": [
        "n=5\n",
        "for i in range(1,n+1):\n",
        "  for j in range(1,n+1):\n",
        "    if(i==1 or i==(n+1)//2 or j==1):\n",
        "      print(\"* \",end=\"\")\n",
        "    else:\n",
        "      print(\"  \",end=\"\")\n",
        "  print()\n"
      ],
      "metadata": {
        "colab": {
          "base_uri": "https://localhost:8080/"
        },
        "id": "bK2gkxuSD_xK",
        "outputId": "e69f3d82-1059-4192-85e4-04e9adf6498f"
      },
      "execution_count": null,
      "outputs": [
        {
          "output_type": "stream",
          "name": "stdout",
          "text": [
            "* * * * * \n",
            "*         \n",
            "* * * * * \n",
            "*         \n",
            "*         \n"
          ]
        }
      ]
    },
    {
      "cell_type": "code",
      "source": [
        "n=5\n",
        "for i in range(1,n+1):\n",
        "  for j in range(1,n+1):\n",
        "    if(j==1 or j==n or i==(n+1)//2):\n",
        "      print(\"* \",end=\"\")\n",
        "    else:\n",
        "      print(\"  \",end=\"\")\n",
        "  print()\n"
      ],
      "metadata": {
        "colab": {
          "base_uri": "https://localhost:8080/"
        },
        "id": "d9kWTRODEBQj",
        "outputId": "989dad64-208d-4cc7-e694-17e6c218787c"
      },
      "execution_count": null,
      "outputs": [
        {
          "output_type": "stream",
          "name": "stdout",
          "text": [
            "*       * \n",
            "*       * \n",
            "* * * * * \n",
            "*       * \n",
            "*       * \n"
          ]
        }
      ]
    },
    {
      "cell_type": "code",
      "source": [
        "n=5\n",
        "for i in range(1,n+1):\n",
        "  for j in range(1,n+1):\n",
        "    if(i==1 or i==n or j==(n+1)//2):\n",
        "      print(\"* \",end=\"\")\n",
        "    else:\n",
        "      print(\"  \",end=\"\")\n",
        "  print()"
      ],
      "metadata": {
        "colab": {
          "base_uri": "https://localhost:8080/"
        },
        "id": "C_uRTz2DEFLi",
        "outputId": "a53d12f6-68a2-4f4c-8e3f-75d5337e4a7a"
      },
      "execution_count": null,
      "outputs": [
        {
          "output_type": "stream",
          "name": "stdout",
          "text": [
            "* * * * * \n",
            "    *     \n",
            "    *     \n",
            "    *     \n",
            "* * * * * \n"
          ]
        }
      ]
    },
    {
      "cell_type": "code",
      "source": [
        "n=5\n",
        "for i in range(1,n+1):\n",
        "  for j in range(1,n+1):\n",
        "    if(j==1 or i==n):\n",
        "      print(\"* \",end=\"\")\n",
        "    else:\n",
        "      print(\"  \",end=\"\")\n",
        "  print()"
      ],
      "metadata": {
        "colab": {
          "base_uri": "https://localhost:8080/"
        },
        "id": "vTafMN26EI7t",
        "outputId": "b5740c7c-7972-4244-c7d0-e2f3b3231f29"
      },
      "execution_count": null,
      "outputs": [
        {
          "output_type": "stream",
          "name": "stdout",
          "text": [
            "*         \n",
            "*         \n",
            "*         \n",
            "*         \n",
            "* * * * * \n"
          ]
        }
      ]
    },
    {
      "cell_type": "code",
      "source": [
        "n=5\n",
        "for i in range(1,n+1):\n",
        "  for j in range(1,n+1):\n",
        "    if(j==1 or i==j or j==n):\n",
        "      print(\"* \",end=\"\")\n",
        "    else:\n",
        "      print(\"  \",end=\"\")\n",
        "  print()"
      ],
      "metadata": {
        "colab": {
          "base_uri": "https://localhost:8080/"
        },
        "id": "Xmc62LFREPQ1",
        "outputId": "ef7b017d-f406-4678-f4be-9f2b3cb19393"
      },
      "execution_count": null,
      "outputs": [
        {
          "output_type": "stream",
          "name": "stdout",
          "text": [
            "*       * \n",
            "* *     * \n",
            "*   *   * \n",
            "*     * * \n",
            "*       * \n"
          ]
        }
      ]
    },
    {
      "cell_type": "code",
      "source": [
        "\n",
        "n=5\n",
        "for i in range(1,n+1):\n",
        "  for j in range(1,n+1):\n",
        "    if(i==1 or i==n or j==1 or j==n):\n",
        "      print(\"* \",end=\"\")\n",
        "    else:\n",
        "      print(\"  \",end=\"\")\n",
        "  print()"
      ],
      "metadata": {
        "colab": {
          "base_uri": "https://localhost:8080/"
        },
        "id": "19pqf4fEESmM",
        "outputId": "e1a1075d-b21c-4273-c0fd-5decf244bed2"
      },
      "execution_count": null,
      "outputs": [
        {
          "output_type": "stream",
          "name": "stdout",
          "text": [
            "* * * * * \n",
            "*       * \n",
            "*       * \n",
            "*       * \n",
            "* * * * * \n"
          ]
        }
      ]
    },
    {
      "cell_type": "code",
      "source": [
        "n=5\n",
        "for i in range(1,n+1):\n",
        "  for j in range(1,n+1):\n",
        "    if(i==1 or j==(n+1)//2):\n",
        "      print(\"* \",end=\"\")\n",
        "    else:\n",
        "      print(\"  \",end=\"\")\n",
        "  print()"
      ],
      "metadata": {
        "colab": {
          "base_uri": "https://localhost:8080/"
        },
        "id": "MRupWnHKEp5i",
        "outputId": "3ee3d854-a794-48fb-b5b3-f9cf28690dbf"
      },
      "execution_count": null,
      "outputs": [
        {
          "output_type": "stream",
          "name": "stdout",
          "text": [
            "* * * * * \n",
            "    *     \n",
            "    *     \n",
            "    *     \n",
            "    *     \n"
          ]
        }
      ]
    },
    {
      "cell_type": "code",
      "source": [
        "n=5\n",
        "for i in range(1,n+1):\n",
        "  for j in range(1,n+1):\n",
        "    if(j==1 or i==n or j==n):\n",
        "      print(\"* \",end=\"\")\n",
        "    else:\n",
        "      print(\"  \",end=\"\")\n",
        "\n",
        "  print()\n"
      ],
      "metadata": {
        "colab": {
          "base_uri": "https://localhost:8080/"
        },
        "id": "Zv32wJ9aEulK",
        "outputId": "2fbe37fc-9c19-4e50-e2d3-6c2895db4c01"
      },
      "execution_count": null,
      "outputs": [
        {
          "output_type": "stream",
          "name": "stdout",
          "text": [
            "*       * \n",
            "*       * \n",
            "*       * \n",
            "*       * \n",
            "* * * * * \n"
          ]
        }
      ]
    },
    {
      "cell_type": "code",
      "source": [
        "n=5\n",
        "for i in range(1,n+1):\n",
        "  for j in range(1,n+1):\n",
        "    if(i==j or i+j==n+1):\n",
        "      print(\"* \",end=\"\")\n",
        "    else:\n",
        "      print(\"  \",end=\"\")\n",
        "  print()\n"
      ],
      "metadata": {
        "colab": {
          "base_uri": "https://localhost:8080/"
        },
        "id": "gHfxViFVExVk",
        "outputId": "b2f04323-08e8-4710-c54d-f5972cabb6bf"
      },
      "execution_count": null,
      "outputs": [
        {
          "output_type": "stream",
          "name": "stdout",
          "text": [
            "*       * \n",
            "  *   *   \n",
            "    *     \n",
            "  *   *   \n",
            "*       * \n"
          ]
        }
      ]
    },
    {
      "cell_type": "code",
      "execution_count": null,
      "metadata": {
        "colab": {
          "base_uri": "https://localhost:8080/"
        },
        "id": "ixedcAQ3Dee4",
        "outputId": "fa4f3c77-0971-4654-cc62-1ddfba309961"
      },
      "outputs": [
        {
          "output_type": "stream",
          "name": "stdout",
          "text": [
            "* * * * * \n",
            "      *   \n",
            "    *     \n",
            "  *       \n",
            "* * * * * \n"
          ]
        }
      ],
      "source": [
        "n=5\n",
        "for i in range(1,n+1):\n",
        "  for j in range(1,n+1):\n",
        "    if(i==n or i==1 or i+j==n+1):\n",
        "      print(\"* \",end=\"\")\n",
        "    else:\n",
        "      print(\"  \",end=\"\")\n",
        "  print()"
      ]
    },
    {
      "cell_type": "code",
      "source": [],
      "metadata": {
        "id": "CxM44zH8Em_5"
      },
      "execution_count": null,
      "outputs": []
    }
  ]
}